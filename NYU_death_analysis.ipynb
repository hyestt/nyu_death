{
 "cells": [
  {
   "cell_type": "markdown",
   "metadata": {},
   "source": [
    "## NYU Death Rate Analysis"
   ]
  },
  {
   "cell_type": "markdown",
   "metadata": {},
   "source": [
    "### Extrach the datasets using SODA.api"
   ]
  },
  {
   "cell_type": "code",
   "execution_count": 9,
   "metadata": {
    "collapsed": true
   },
   "outputs": [],
   "source": [
    "'''\n",
    "Annual Population Estimates for New York State and Counties: Beginning 1970\n",
    "https://dev.socrata.com/foundry/data.ny.gov/krt9-ym2k\n",
    " \n",
    "Vital Statistics Deaths by Resident County, Region, Place of Death: Beginning 2003\n",
    "https://health.data.ny.gov/Health/Vital-Statistics-Deaths-by-Resident-County-Region-/v6zf-ydez\n",
    "'''\n",
    "\n",
    "#Use SODA API to extract the data\n",
    "from sodapy import Socrata\n",
    "import pandas as pd\n",
    "\n",
    "# Enter the information from those sections here\n",
    "socrata_population_domain = 'data.ny.gov'\n",
    "socrata_death_domain = 'health.data.ny.gov'\n",
    "Death_dataset_identifier = '7z98-p7et'\n",
    "Population_dataset_identifier = 'krt9-ym2k'\n",
    "socrata_token = 'Ll5YWwpbFi3EZIPbJMXoNY5IU'"
   ]
  },
  {
   "cell_type": "code",
   "execution_count": 10,
   "metadata": {},
   "outputs": [
    {
     "data": {
      "text/html": [
       "<div>\n",
       "<style scoped>\n",
       "    .dataframe tbody tr th:only-of-type {\n",
       "        vertical-align: middle;\n",
       "    }\n",
       "\n",
       "    .dataframe tbody tr th {\n",
       "        vertical-align: top;\n",
       "    }\n",
       "\n",
       "    .dataframe thead th {\n",
       "        text-align: right;\n",
       "    }\n",
       "</style>\n",
       "<table border=\"1\" class=\"dataframe\">\n",
       "  <thead>\n",
       "    <tr style=\"text-align: right;\">\n",
       "      <th></th>\n",
       "      <th>county_name</th>\n",
       "      <th>deaths</th>\n",
       "      <th>race_ethnicity_description</th>\n",
       "      <th>region</th>\n",
       "      <th>year</th>\n",
       "    </tr>\n",
       "  </thead>\n",
       "  <tbody>\n",
       "    <tr>\n",
       "      <th>0</th>\n",
       "      <td>Albany</td>\n",
       "      <td>2</td>\n",
       "      <td>White Non Hispanic</td>\n",
       "      <td>ROS</td>\n",
       "      <td>2003</td>\n",
       "    </tr>\n",
       "    <tr>\n",
       "      <th>1</th>\n",
       "      <td>Albany</td>\n",
       "      <td>3</td>\n",
       "      <td>Not Stated</td>\n",
       "      <td>ROS</td>\n",
       "      <td>2003</td>\n",
       "    </tr>\n",
       "    <tr>\n",
       "      <th>2</th>\n",
       "      <td>Albany</td>\n",
       "      <td>2841</td>\n",
       "      <td>Hispanic</td>\n",
       "      <td>ROS</td>\n",
       "      <td>2003</td>\n",
       "    </tr>\n",
       "  </tbody>\n",
       "</table>\n",
       "</div>"
      ],
      "text/plain": [
       "  county_name deaths race_ethnicity_description region  year\n",
       "0      Albany      2         White Non Hispanic    ROS  2003\n",
       "1      Albany      3                 Not Stated    ROS  2003\n",
       "2      Albany   2841                   Hispanic    ROS  2003"
      ]
     },
     "execution_count": 10,
     "metadata": {},
     "output_type": "execute_result"
    }
   ],
   "source": [
    "# Extract death dataset from 2003 to 2008. \n",
    "client = Socrata(socrata_death_domain, socrata_token)\n",
    "\n",
    "query = \"\"\"\n",
    "select \n",
    "    *\n",
    "where\n",
    "    race_ethnicity_description != 'Total'\n",
    "    and year >= 2003 and year <= 2008\n",
    "\"\"\"\n",
    "\n",
    "death_results = client.get(Death_dataset_identifier, query = query)\n",
    "d_df = pd.DataFrame.from_dict(death_results)\n",
    "d_df.head(3)"
   ]
  },
  {
   "cell_type": "code",
   "execution_count": 11,
   "metadata": {},
   "outputs": [
    {
     "data": {
      "text/plain": [
       "['Year', 'County Name', 'Region', 'Race or Ethnicity', 'Deaths']"
      ]
     },
     "execution_count": 11,
     "metadata": {},
     "output_type": "execute_result"
    }
   ],
   "source": [
    "d_metadata = client.get_metadata(Death_dataset_identifier)\n",
    "[x['name'] for x in d_metadata['columns']]"
   ]
  },
  {
   "cell_type": "code",
   "execution_count": 12,
   "metadata": {},
   "outputs": [
    {
     "data": {
      "text/plain": [
       "array(['2003', '2004', '2005', '2006', '2007', '2008'], dtype=object)"
      ]
     },
     "execution_count": 12,
     "metadata": {},
     "output_type": "execute_result"
    }
   ],
   "source": [
    "# Extract population dataset from 2003 to 2008\n",
    "\n",
    "client = Socrata(socrata_population_domain, socrata_token)\n",
    "\n",
    "query = \"\"\"\n",
    "select \n",
    "    *\n",
    "where\n",
    "    year >= 2003 and year <= 2008\n",
    "\"\"\"\n",
    "\n",
    "population_results = client.get(Population_dataset_identifier, query = query)\n",
    "p_df = pd.DataFrame.from_dict(population_results)\n",
    "p_df['year'].unique()"
   ]
  },
  {
   "cell_type": "code",
   "execution_count": 13,
   "metadata": {},
   "outputs": [
    {
     "data": {
      "text/plain": [
       "['FIPS Code', 'Geography', 'Year', 'Program Type', 'Population']"
      ]
     },
     "execution_count": 13,
     "metadata": {},
     "output_type": "execute_result"
    }
   ],
   "source": [
    "p_metadata = client.get_metadata(Population_dataset_identifier)\n",
    "[x['name'] for x in p_metadata['columns']]"
   ]
  },
  {
   "cell_type": "code",
   "execution_count": 14,
   "metadata": {},
   "outputs": [
    {
     "data": {
      "text/plain": [
       "array(['New York State', 'Albany County', 'Allegany County',\n",
       "       'Bronx County', 'Broome County', 'Cattaraugus County',\n",
       "       'Cayuga County', 'Chautauqua County', 'Chemung County',\n",
       "       'Chenango County', 'Clinton County', 'Columbia County',\n",
       "       'Cortland County', 'Delaware County', 'Dutchess County',\n",
       "       'Erie County', 'Essex County', 'Franklin County', 'Fulton County',\n",
       "       'Genesee County', 'Greene County', 'Hamilton County',\n",
       "       'Herkimer County', 'Jefferson County', 'Kings County',\n",
       "       'Lewis County', 'Livingston County', 'Madison County',\n",
       "       'Monroe County', 'Montgomery County', 'Nassau County',\n",
       "       'New York County', 'Niagara County', 'Oneida County',\n",
       "       'Onondaga County', 'Ontario County', 'Orange County',\n",
       "       'Orleans County', 'Oswego County', 'Otsego County',\n",
       "       'Putnam County', 'Queens County', 'Rensselaer County',\n",
       "       'Richmond County', 'Rockland County', 'St. Lawrence County',\n",
       "       'Saratoga County', 'Schenectady County', 'Schoharie County',\n",
       "       'Schuyler County', 'Seneca County', 'Steuben County',\n",
       "       'Suffolk County', 'Sullivan County', 'Tioga County',\n",
       "       'Tompkins County', 'Ulster County', 'Warren County',\n",
       "       'Washington County', 'Wayne County', 'Westchester County',\n",
       "       'Wyoming County', 'Yates County'], dtype=object)"
      ]
     },
     "execution_count": 14,
     "metadata": {},
     "output_type": "execute_result"
    }
   ],
   "source": [
    "p_df['geography'].unique()"
   ]
  },
  {
   "cell_type": "code",
   "execution_count": 15,
   "metadata": {},
   "outputs": [
    {
     "data": {
      "text/plain": [
       "array(['Albany', 'Allegany', 'Bronx', 'Broome', 'Cattaraugus', 'Cayuga',\n",
       "       'Chautauqua', 'Chemung', 'Chenango', 'Clinton', 'Columbia',\n",
       "       'Cortland', 'Delaware', 'Dutchess', 'Erie', 'Essex', 'Franklin',\n",
       "       'Fulton', 'Genesee', 'Greene', 'Hamilton', 'Herkimer', 'Jefferson',\n",
       "       'Kings', 'Lewis', 'Livingston', 'Madison', 'Monroe', 'Montgomery',\n",
       "       'Nassau', 'New York', 'Niagara', 'Oneida', 'Onondaga', 'Ontario',\n",
       "       'Orange', 'Orleans', 'Oswego', 'Otsego', 'Putnam', 'Queens',\n",
       "       'Rensselaer', 'Richmond', 'Rockland', 'Saratoga', 'Schenectady',\n",
       "       'Schoharie', 'Schuyler', 'Seneca', 'St Lawrence', 'Steuben',\n",
       "       'Suffolk', 'Sullivan', 'Tioga', 'Tompkins', 'Ulster', 'Warren',\n",
       "       'Washington', 'Wayne', 'Westchester', 'Wyoming', 'Yates'],\n",
       "      dtype=object)"
      ]
     },
     "execution_count": 15,
     "metadata": {},
     "output_type": "execute_result"
    }
   ],
   "source": [
    "d_df['county_name'].unique()"
   ]
  },
  {
   "cell_type": "code",
   "execution_count": 16,
   "metadata": {},
   "outputs": [],
   "source": [
    "# Create a corresponding county dictionary. Ex: {Albany County : Albany , ...}\n",
    "from collections import defaultdict\n",
    "county_dict = defaultdict(str)\n",
    "\n",
    "population_county_list = p_df['geography'].unique()\n",
    "death_county_list = list(d_df['county_name'].unique())"
   ]
  },
  {
   "cell_type": "code",
   "execution_count": 17,
   "metadata": {},
   "outputs": [],
   "source": [
    "for i in death_county_list:\n",
    "    for j in population_county_list:\n",
    "        if i in j:\n",
    "            county_dict[i] = j\n",
    "        \n",
    "#Add St Lawrence in dictionary\n",
    "county_dict['St Lawrence'] = 'St. Lawrence County'"
   ]
  },
  {
   "cell_type": "markdown",
   "metadata": {},
   "source": [
    "### Merge the datasets"
   ]
  },
  {
   "cell_type": "code",
   "execution_count": 18,
   "metadata": {},
   "outputs": [
    {
     "data": {
      "text/html": [
       "<div>\n",
       "<style scoped>\n",
       "    .dataframe tbody tr th:only-of-type {\n",
       "        vertical-align: middle;\n",
       "    }\n",
       "\n",
       "    .dataframe tbody tr th {\n",
       "        vertical-align: top;\n",
       "    }\n",
       "\n",
       "    .dataframe thead th {\n",
       "        text-align: right;\n",
       "    }\n",
       "</style>\n",
       "<table border=\"1\" class=\"dataframe\">\n",
       "  <thead>\n",
       "    <tr style=\"text-align: right;\">\n",
       "      <th></th>\n",
       "      <th>county_name</th>\n",
       "      <th>deaths</th>\n",
       "      <th>race_ethnicity_description</th>\n",
       "      <th>year</th>\n",
       "      <th>population</th>\n",
       "    </tr>\n",
       "  </thead>\n",
       "  <tbody>\n",
       "    <tr>\n",
       "      <th>0</th>\n",
       "      <td>Albany</td>\n",
       "      <td>2</td>\n",
       "      <td>White Non Hispanic</td>\n",
       "      <td>2003</td>\n",
       "      <td>301085</td>\n",
       "    </tr>\n",
       "    <tr>\n",
       "      <th>1</th>\n",
       "      <td>Albany</td>\n",
       "      <td>3</td>\n",
       "      <td>Not Stated</td>\n",
       "      <td>2003</td>\n",
       "      <td>301085</td>\n",
       "    </tr>\n",
       "    <tr>\n",
       "      <th>2</th>\n",
       "      <td>Albany</td>\n",
       "      <td>2841</td>\n",
       "      <td>Hispanic</td>\n",
       "      <td>2003</td>\n",
       "      <td>301085</td>\n",
       "    </tr>\n",
       "    <tr>\n",
       "      <th>3</th>\n",
       "      <td>Allegany</td>\n",
       "      <td>4</td>\n",
       "      <td>White Non Hispanic</td>\n",
       "      <td>2003</td>\n",
       "      <td>50165</td>\n",
       "    </tr>\n",
       "    <tr>\n",
       "      <th>4</th>\n",
       "      <td>Allegany</td>\n",
       "      <td>480</td>\n",
       "      <td>Hispanic</td>\n",
       "      <td>2003</td>\n",
       "      <td>50165</td>\n",
       "    </tr>\n",
       "  </tbody>\n",
       "</table>\n",
       "</div>"
      ],
      "text/plain": [
       "  county_name deaths race_ethnicity_description  year population\n",
       "0      Albany      2         White Non Hispanic  2003     301085\n",
       "1      Albany      3                 Not Stated  2003     301085\n",
       "2      Albany   2841                   Hispanic  2003     301085\n",
       "3    Allegany      4         White Non Hispanic  2003      50165\n",
       "4    Allegany    480                   Hispanic  2003      50165"
      ]
     },
     "execution_count": 18,
     "metadata": {},
     "output_type": "execute_result"
    }
   ],
   "source": [
    "#Select the countries in dictionary \n",
    "population_county = [county_dict[i] for i in county_dict]\n",
    "p_df = p_df[p_df[\"geography\"].isin(population_county)]\n",
    "\n",
    "#Append a new column 'county', which would be used on outer join later\n",
    "d_df['geography'] = d_df['county_name'].map(county_dict)\n",
    "\n",
    "# Remove irrelevant columns \n",
    "p_df = p_df.drop(['fips_code','program_type'], axis = 1)\n",
    "d_df = d_df.drop(['region'], axis = 1)\n",
    "\n",
    "# Combine two datasets at a county level\n",
    "df = pd.merge(d_df, p_df, on = ['geography','year'], how='right')\n",
    "\n",
    "# Remove the duplicate column 'geography', which is the same as county_name\n",
    "df = df.drop(['geography'], axis = 1)\n",
    "df.head()"
   ]
  },
  {
   "cell_type": "code",
   "execution_count": 19,
   "metadata": {},
   "outputs": [
    {
     "name": "stdout",
     "output_type": "stream",
     "text": [
      "The shape of dataset : (793, 5)\n"
     ]
    }
   ],
   "source": [
    "print(\"The shape of dataset :\", df.shape)"
   ]
  },
  {
   "cell_type": "markdown",
   "metadata": {},
   "source": [
    "### Data Cleaning and Data Preprocessing"
   ]
  },
  {
   "cell_type": "code",
   "execution_count": 20,
   "metadata": {},
   "outputs": [
    {
     "data": {
      "text/plain": [
       "county_name                   0\n",
       "deaths                        0\n",
       "race_ethnicity_description    0\n",
       "year                          0\n",
       "population                    0\n",
       "dtype: int64"
      ]
     },
     "execution_count": 20,
     "metadata": {},
     "output_type": "execute_result"
    }
   ],
   "source": [
    "# Check whether the NA value exists or not. Awesome! There is no missing value inside. \n",
    "df.isnull().sum()"
   ]
  },
  {
   "cell_type": "code",
   "execution_count": 21,
   "metadata": {},
   "outputs": [],
   "source": [
    "# export the data as df.xlsx and examine \n",
    "writer = pd.ExcelWriter('df.xlsx')\n",
    "df.to_excel(writer,'df')\n",
    "writer.save()"
   ]
  },
  {
   "cell_type": "code",
   "execution_count": 22,
   "metadata": {},
   "outputs": [],
   "source": [
    "# Change the data type from string to number\n",
    "df[['deaths']] = df[['deaths']].astype('int32')\n",
    "df[['population']] = df[['population']].astype('int32')"
   ]
  },
  {
   "cell_type": "code",
   "execution_count": 23,
   "metadata": {},
   "outputs": [
    {
     "data": {
      "text/html": [
       "<div>\n",
       "<style scoped>\n",
       "    .dataframe tbody tr th:only-of-type {\n",
       "        vertical-align: middle;\n",
       "    }\n",
       "\n",
       "    .dataframe tbody tr th {\n",
       "        vertical-align: top;\n",
       "    }\n",
       "\n",
       "    .dataframe thead th {\n",
       "        text-align: right;\n",
       "    }\n",
       "</style>\n",
       "<table border=\"1\" class=\"dataframe\">\n",
       "  <thead>\n",
       "    <tr style=\"text-align: right;\">\n",
       "      <th></th>\n",
       "      <th>county_name</th>\n",
       "      <th>deaths</th>\n",
       "      <th>race_ethnicity_description</th>\n",
       "      <th>year</th>\n",
       "      <th>population</th>\n",
       "    </tr>\n",
       "  </thead>\n",
       "  <tbody>\n",
       "    <tr>\n",
       "      <th>0</th>\n",
       "      <td>Albany</td>\n",
       "      <td>2</td>\n",
       "      <td>White Non Hispanic</td>\n",
       "      <td>2003</td>\n",
       "      <td>301085</td>\n",
       "    </tr>\n",
       "    <tr>\n",
       "      <th>1</th>\n",
       "      <td>Albany</td>\n",
       "      <td>3</td>\n",
       "      <td>Not Stated</td>\n",
       "      <td>2003</td>\n",
       "      <td>301085</td>\n",
       "    </tr>\n",
       "    <tr>\n",
       "      <th>2</th>\n",
       "      <td>Albany</td>\n",
       "      <td>2841</td>\n",
       "      <td>Hispanic</td>\n",
       "      <td>2003</td>\n",
       "      <td>301085</td>\n",
       "    </tr>\n",
       "    <tr>\n",
       "      <th>3</th>\n",
       "      <td>Allegany</td>\n",
       "      <td>4</td>\n",
       "      <td>White Non Hispanic</td>\n",
       "      <td>2003</td>\n",
       "      <td>50165</td>\n",
       "    </tr>\n",
       "    <tr>\n",
       "      <th>4</th>\n",
       "      <td>Allegany</td>\n",
       "      <td>480</td>\n",
       "      <td>Hispanic</td>\n",
       "      <td>2003</td>\n",
       "      <td>50165</td>\n",
       "    </tr>\n",
       "  </tbody>\n",
       "</table>\n",
       "</div>"
      ],
      "text/plain": [
       "  county_name  deaths race_ethnicity_description  year  population\n",
       "0      Albany       2         White Non Hispanic  2003      301085\n",
       "1      Albany       3                 Not Stated  2003      301085\n",
       "2      Albany    2841                   Hispanic  2003      301085\n",
       "3    Allegany       4         White Non Hispanic  2003       50165\n",
       "4    Allegany     480                   Hispanic  2003       50165"
      ]
     },
     "execution_count": 23,
     "metadata": {},
     "output_type": "execute_result"
    }
   ],
   "source": [
    "df.head()"
   ]
  },
  {
   "cell_type": "markdown",
   "metadata": {},
   "source": [
    "### Exploratory Data Analysis"
   ]
  },
  {
   "cell_type": "code",
   "execution_count": 24,
   "metadata": {},
   "outputs": [
    {
     "data": {
      "text/html": [
       "<div>\n",
       "<style scoped>\n",
       "    .dataframe tbody tr th:only-of-type {\n",
       "        vertical-align: middle;\n",
       "    }\n",
       "\n",
       "    .dataframe tbody tr th {\n",
       "        vertical-align: top;\n",
       "    }\n",
       "\n",
       "    .dataframe thead th {\n",
       "        text-align: right;\n",
       "    }\n",
       "</style>\n",
       "<table border=\"1\" class=\"dataframe\">\n",
       "  <thead>\n",
       "    <tr style=\"text-align: right;\">\n",
       "      <th></th>\n",
       "      <th>deaths</th>\n",
       "      <th>population</th>\n",
       "    </tr>\n",
       "  </thead>\n",
       "  <tbody>\n",
       "    <tr>\n",
       "      <th>count</th>\n",
       "      <td>793.000000</td>\n",
       "      <td>7.930000e+02</td>\n",
       "    </tr>\n",
       "    <tr>\n",
       "      <th>mean</th>\n",
       "      <td>1134.322825</td>\n",
       "      <td>4.705027e+05</td>\n",
       "    </tr>\n",
       "    <tr>\n",
       "      <th>std</th>\n",
       "      <td>2809.188686</td>\n",
       "      <td>6.296940e+05</td>\n",
       "    </tr>\n",
       "    <tr>\n",
       "      <th>min</th>\n",
       "      <td>1.000000</td>\n",
       "      <td>4.893000e+03</td>\n",
       "    </tr>\n",
       "    <tr>\n",
       "      <th>25%</th>\n",
       "      <td>1.000000</td>\n",
       "      <td>6.429200e+04</td>\n",
       "    </tr>\n",
       "    <tr>\n",
       "      <th>50%</th>\n",
       "      <td>8.000000</td>\n",
       "      <td>1.561040e+05</td>\n",
       "    </tr>\n",
       "    <tr>\n",
       "      <th>75%</th>\n",
       "      <td>692.000000</td>\n",
       "      <td>7.383290e+05</td>\n",
       "    </tr>\n",
       "    <tr>\n",
       "      <th>max</th>\n",
       "      <td>17766.000000</td>\n",
       "      <td>2.472999e+06</td>\n",
       "    </tr>\n",
       "  </tbody>\n",
       "</table>\n",
       "</div>"
      ],
      "text/plain": [
       "             deaths    population\n",
       "count    793.000000  7.930000e+02\n",
       "mean    1134.322825  4.705027e+05\n",
       "std     2809.188686  6.296940e+05\n",
       "min        1.000000  4.893000e+03\n",
       "25%        1.000000  6.429200e+04\n",
       "50%        8.000000  1.561040e+05\n",
       "75%      692.000000  7.383290e+05\n",
       "max    17766.000000  2.472999e+06"
      ]
     },
     "execution_count": 24,
     "metadata": {},
     "output_type": "execute_result"
    }
   ],
   "source": [
    "df.describe()"
   ]
  },
  {
   "cell_type": "code",
   "execution_count": 25,
   "metadata": {},
   "outputs": [
    {
     "name": "stdout",
     "output_type": "stream",
     "text": [
      "county_name             62\t ['Albany', 'Allegany', 'Bronx', 'Broome', 'Cattaraugus', 'Cayuga']\n",
      "deaths                 359\t [1, 2, 3, 4, 5, 6]\n",
      "race_ethnicity_description     5\t ['Black Non Hispanic', 'Hispanic', 'Not Stated', 'Other Non Hispanic', 'White Non Hispanic']\n",
      "year                     6\t ['2003', '2004', '2005', '2006', '2007', '2008']\n",
      "population             370\t [4893, 4969, 4987, 5093, 5158, 5181]\n"
     ]
    }
   ],
   "source": [
    "for column in df.columns:\n",
    "    uniques = sorted(df[column].unique())\n",
    "    print('{0:20s} {1:5d}\\t'.format(column, len(uniques)), uniques[:6])"
   ]
  },
  {
   "cell_type": "code",
   "execution_count": 26,
   "metadata": {},
   "outputs": [
    {
     "data": {
      "text/plain": [
       "array(['Albany', 'Allegany', 'Bronx', 'Broome', 'Cattaraugus', 'Cayuga',\n",
       "       'Chautauqua', 'Chemung', 'Chenango', 'Clinton', 'Columbia',\n",
       "       'Cortland', 'Delaware', 'Dutchess', 'Erie', 'Essex', 'Franklin',\n",
       "       'Fulton', 'Genesee', 'Greene', 'Hamilton', 'Herkimer', 'Jefferson',\n",
       "       'Kings', 'Lewis', 'Livingston', 'Madison', 'Monroe', 'Montgomery',\n",
       "       'Nassau', 'New York', 'Niagara', 'Oneida', 'Onondaga', 'Ontario',\n",
       "       'Orange', 'Orleans', 'Oswego', 'Otsego', 'Putnam', 'Queens',\n",
       "       'Rensselaer', 'Richmond', 'Rockland', 'Saratoga', 'Schenectady',\n",
       "       'Schoharie', 'Schuyler', 'Seneca', 'St Lawrence', 'Steuben',\n",
       "       'Suffolk', 'Sullivan', 'Tioga', 'Tompkins', 'Ulster', 'Warren',\n",
       "       'Washington', 'Wayne', 'Westchester', 'Wyoming', 'Yates'],\n",
       "      dtype=object)"
      ]
     },
     "execution_count": 26,
     "metadata": {},
     "output_type": "execute_result"
    }
   ],
   "source": [
    "df['county_name'].unique()"
   ]
  },
  {
   "cell_type": "code",
   "execution_count": 27,
   "metadata": {},
   "outputs": [
    {
     "data": {
      "text/html": [
       "<div>\n",
       "<style scoped>\n",
       "    .dataframe tbody tr th:only-of-type {\n",
       "        vertical-align: middle;\n",
       "    }\n",
       "\n",
       "    .dataframe tbody tr th {\n",
       "        vertical-align: top;\n",
       "    }\n",
       "\n",
       "    .dataframe thead th {\n",
       "        text-align: right;\n",
       "    }\n",
       "</style>\n",
       "<table border=\"1\" class=\"dataframe\">\n",
       "  <thead>\n",
       "    <tr style=\"text-align: right;\">\n",
       "      <th></th>\n",
       "      <th>county_name</th>\n",
       "      <th>deaths</th>\n",
       "      <th>race_ethnicity_description</th>\n",
       "      <th>year</th>\n",
       "      <th>population</th>\n",
       "      <th>Location</th>\n",
       "    </tr>\n",
       "  </thead>\n",
       "  <tbody>\n",
       "    <tr>\n",
       "      <th>0</th>\n",
       "      <td>Albany</td>\n",
       "      <td>2</td>\n",
       "      <td>White Non Hispanic</td>\n",
       "      <td>2003</td>\n",
       "      <td>301085</td>\n",
       "      <td>East</td>\n",
       "    </tr>\n",
       "    <tr>\n",
       "      <th>1</th>\n",
       "      <td>Albany</td>\n",
       "      <td>3</td>\n",
       "      <td>Not Stated</td>\n",
       "      <td>2003</td>\n",
       "      <td>301085</td>\n",
       "      <td>East</td>\n",
       "    </tr>\n",
       "    <tr>\n",
       "      <th>2</th>\n",
       "      <td>Albany</td>\n",
       "      <td>2841</td>\n",
       "      <td>Hispanic</td>\n",
       "      <td>2003</td>\n",
       "      <td>301085</td>\n",
       "      <td>East</td>\n",
       "    </tr>\n",
       "    <tr>\n",
       "      <th>3</th>\n",
       "      <td>Allegany</td>\n",
       "      <td>4</td>\n",
       "      <td>White Non Hispanic</td>\n",
       "      <td>2003</td>\n",
       "      <td>50165</td>\n",
       "      <td>West</td>\n",
       "    </tr>\n",
       "    <tr>\n",
       "      <th>4</th>\n",
       "      <td>Allegany</td>\n",
       "      <td>480</td>\n",
       "      <td>Hispanic</td>\n",
       "      <td>2003</td>\n",
       "      <td>50165</td>\n",
       "      <td>West</td>\n",
       "    </tr>\n",
       "    <tr>\n",
       "      <th>5</th>\n",
       "      <td>Bronx</td>\n",
       "      <td>3</td>\n",
       "      <td>White Non Hispanic</td>\n",
       "      <td>2003</td>\n",
       "      <td>1362373</td>\n",
       "      <td>NyCity</td>\n",
       "    </tr>\n",
       "    <tr>\n",
       "      <th>6</th>\n",
       "      <td>Bronx</td>\n",
       "      <td>8</td>\n",
       "      <td>Black Non Hispanic</td>\n",
       "      <td>2003</td>\n",
       "      <td>1362373</td>\n",
       "      <td>NyCity</td>\n",
       "    </tr>\n",
       "    <tr>\n",
       "      <th>7</th>\n",
       "      <td>Bronx</td>\n",
       "      <td>10072</td>\n",
       "      <td>Hispanic</td>\n",
       "      <td>2003</td>\n",
       "      <td>1362373</td>\n",
       "      <td>NyCity</td>\n",
       "    </tr>\n",
       "    <tr>\n",
       "      <th>8</th>\n",
       "      <td>Broome</td>\n",
       "      <td>1</td>\n",
       "      <td>Not Stated</td>\n",
       "      <td>2003</td>\n",
       "      <td>201037</td>\n",
       "      <td>Mid</td>\n",
       "    </tr>\n",
       "    <tr>\n",
       "      <th>9</th>\n",
       "      <td>Broome</td>\n",
       "      <td>5</td>\n",
       "      <td>Black Non Hispanic</td>\n",
       "      <td>2003</td>\n",
       "      <td>201037</td>\n",
       "      <td>Mid</td>\n",
       "    </tr>\n",
       "  </tbody>\n",
       "</table>\n",
       "</div>"
      ],
      "text/plain": [
       "  county_name  deaths race_ethnicity_description  year  population Location\n",
       "0      Albany       2         White Non Hispanic  2003      301085     East\n",
       "1      Albany       3                 Not Stated  2003      301085     East\n",
       "2      Albany    2841                   Hispanic  2003      301085     East\n",
       "3    Allegany       4         White Non Hispanic  2003       50165     West\n",
       "4    Allegany     480                   Hispanic  2003       50165     West\n",
       "5       Bronx       3         White Non Hispanic  2003     1362373   NyCity\n",
       "6       Bronx       8         Black Non Hispanic  2003     1362373   NyCity\n",
       "7       Bronx   10072                   Hispanic  2003     1362373   NyCity\n",
       "8      Broome       1                 Not Stated  2003      201037      Mid\n",
       "9      Broome       5         Black Non Hispanic  2003      201037      Mid"
      ]
     },
     "execution_count": 27,
     "metadata": {},
     "output_type": "execute_result"
    }
   ],
   "source": [
    "# New York city consists of Kings, Queens, Richmond, and Bronx\n",
    "# To visualize clearly, I create a new feature 'Location' and map the different counties based on its geographic location. \n",
    "NyCity = ['Kings', 'Queens', 'Richmond', 'Bronx']\n",
    "\n",
    "West = ['Wayne','Allegany','Erie','Wyoming','Orleans','Chemung','Monroe','Yates','Schuyler','Niagara',\n",
    " 'Seneca','Steuben','Chautauqua','Cattaraugus','Livingston','Ontario','Genesee']\n",
    "\n",
    "Mid = ['St. Lawrence','Lewis','Jefferson','Herkimer','Onondaga',\n",
    " 'Cayuga','Cortland','Tompkins','Broome','Oneida','Oswego','Tioga','Chenango','Madison']\n",
    "\n",
    "South = ['Ulster','Dutchess','Putnam','Orange','Sullivan','Rockland','Westchester','Suffolk','Nassau']\n",
    "\n",
    "East = ['Franklin','Clinton','Essex','Hamilton','Warren','Saratoga','Washington','Columbia','Schenectady'\n",
    ",'Rensselaer','Delaware','Otsego','Greene','Albany','Fulton','Montgomery','Schoharie']\n",
    "\n",
    "Geo_dict={}\n",
    "district = ['West','Mid','South','East','NyCity']\n",
    "for index,geo_list in enumerate([West,Mid,South,East,NyCity]):\n",
    "    for county in geo_list:\n",
    "        Geo_dict[county] = district[index]\n",
    "\n",
    "df['Location'] = df['county_name'].map(Geo_dict)\n",
    "df.head(10)"
   ]
  },
  {
   "cell_type": "code",
   "execution_count": 28,
   "metadata": {},
   "outputs": [
    {
     "data": {
      "text/html": [
       "<div>\n",
       "<style scoped>\n",
       "    .dataframe tbody tr th:only-of-type {\n",
       "        vertical-align: middle;\n",
       "    }\n",
       "\n",
       "    .dataframe tbody tr th {\n",
       "        vertical-align: top;\n",
       "    }\n",
       "\n",
       "    .dataframe thead th {\n",
       "        text-align: right;\n",
       "    }\n",
       "</style>\n",
       "<table border=\"1\" class=\"dataframe\">\n",
       "  <thead>\n",
       "    <tr style=\"text-align: right;\">\n",
       "      <th></th>\n",
       "      <th>race_ethnicity_description</th>\n",
       "      <th>deaths</th>\n",
       "    </tr>\n",
       "  </thead>\n",
       "  <tbody>\n",
       "    <tr>\n",
       "      <th>0</th>\n",
       "      <td>Black Non Hispanic</td>\n",
       "      <td>235</td>\n",
       "    </tr>\n",
       "    <tr>\n",
       "      <th>1</th>\n",
       "      <td>Hispanic</td>\n",
       "      <td>898266</td>\n",
       "    </tr>\n",
       "    <tr>\n",
       "      <th>2</th>\n",
       "      <td>Not Stated</td>\n",
       "      <td>156</td>\n",
       "    </tr>\n",
       "    <tr>\n",
       "      <th>3</th>\n",
       "      <td>Other Non Hispanic</td>\n",
       "      <td>34</td>\n",
       "    </tr>\n",
       "    <tr>\n",
       "      <th>4</th>\n",
       "      <td>White Non Hispanic</td>\n",
       "      <td>827</td>\n",
       "    </tr>\n",
       "  </tbody>\n",
       "</table>\n",
       "</div>"
      ],
      "text/plain": [
       "  race_ethnicity_description  deaths\n",
       "0         Black Non Hispanic     235\n",
       "1                   Hispanic  898266\n",
       "2                 Not Stated     156\n",
       "3         Other Non Hispanic      34\n",
       "4         White Non Hispanic     827"
      ]
     },
     "execution_count": 28,
     "metadata": {},
     "output_type": "execute_result"
    }
   ],
   "source": [
    "# From the table above, I noticed that there are extremely high hispanic deaths compared to other races. \n",
    "# So first I would like to check the total death ratio based on different races.\n",
    "\n",
    "import numpy as np\n",
    "import pandas as pd\n",
    "\n",
    "temp = df[['year','population','county_name','deaths','Location']]\n",
    "\n",
    "temp = df.groupby(['race_ethnicity_description']).agg({'deaths': np.sum}).reset_index()\n",
    "temp.head()"
   ]
  },
  {
   "cell_type": "code",
   "execution_count": 29,
   "metadata": {},
   "outputs": [
    {
     "data": {
      "text/plain": [
       "Index(['West', 'South', 'East', 'Mid', 'NyCity'], dtype='object')"
      ]
     },
     "execution_count": 29,
     "metadata": {},
     "output_type": "execute_result"
    }
   ],
   "source": [
    "df.Location.value_counts().iloc[:5].index"
   ]
  },
  {
   "cell_type": "code",
   "execution_count": 30,
   "metadata": {},
   "outputs": [
    {
     "data": {
      "image/png": "[encoded data removed]",
      "text/plain": [
       "<matplotlib.figure.Figure at 0x107bc6940>"
      ]
     },
     "metadata": {},
     "output_type": "display_data"
    }
   ],
   "source": [
    "# The total death ratio pie chart from 2003 to 2008\n",
    "temp1 = df.groupby(['Location']).agg({'deaths': np.sum}).reset_index()\n",
    "import matplotlib.pyplot as plt\n",
    "labels = list(temp1['Location'].values)\n",
    "size = list(temp1['deaths'].values) \n",
    "colors = ['gold', 'yellowgreen', 'lightcoral', 'lightskyblue','red']\n",
    "plt.pie(size, labels=labels, colors=colors,autopct='%1.1f%%', shadow=True)\n",
    "\n",
    "plt.axis('equal')\n",
    "plt.show()"
   ]
  },
  {
   "cell_type": "code",
   "execution_count": 31,
   "metadata": {},
   "outputs": [
    {
     "data": {
      "text/html": [
       "<div>\n",
       "<style scoped>\n",
       "    .dataframe tbody tr th:only-of-type {\n",
       "        vertical-align: middle;\n",
       "    }\n",
       "\n",
       "    .dataframe tbody tr th {\n",
       "        vertical-align: top;\n",
       "    }\n",
       "\n",
       "    .dataframe thead th {\n",
       "        text-align: right;\n",
       "    }\n",
       "</style>\n",
       "<table border=\"1\" class=\"dataframe\">\n",
       "  <thead>\n",
       "    <tr style=\"text-align: right;\">\n",
       "      <th></th>\n",
       "      <th>Location</th>\n",
       "      <th>population</th>\n",
       "      <th>deaths</th>\n",
       "      <th>Death_rate</th>\n",
       "    </tr>\n",
       "  </thead>\n",
       "  <tbody>\n",
       "    <tr>\n",
       "      <th>0</th>\n",
       "      <td>East</td>\n",
       "      <td>8946621</td>\n",
       "      <td>82337</td>\n",
       "      <td>0.920314</td>\n",
       "    </tr>\n",
       "    <tr>\n",
       "      <th>1</th>\n",
       "      <td>Mid</td>\n",
       "      <td>9770896</td>\n",
       "      <td>87885</td>\n",
       "      <td>0.899457</td>\n",
       "    </tr>\n",
       "    <tr>\n",
       "      <th>2</th>\n",
       "      <td>NyCity</td>\n",
       "      <td>38748414</td>\n",
       "      <td>266943</td>\n",
       "      <td>0.688913</td>\n",
       "    </tr>\n",
       "    <tr>\n",
       "      <th>3</th>\n",
       "      <td>South</td>\n",
       "      <td>30353859</td>\n",
       "      <td>230514</td>\n",
       "      <td>0.759422</td>\n",
       "    </tr>\n",
       "    <tr>\n",
       "      <th>4</th>\n",
       "      <td>West</td>\n",
       "      <td>16988230</td>\n",
       "      <td>162548</td>\n",
       "      <td>0.956827</td>\n",
       "    </tr>\n",
       "  </tbody>\n",
       "</table>\n",
       "</div>"
      ],
      "text/plain": [
       "  Location  population  deaths  Death_rate\n",
       "0     East     8946621   82337    0.920314\n",
       "1      Mid     9770896   87885    0.899457\n",
       "2   NyCity    38748414  266943    0.688913\n",
       "3    South    30353859  230514    0.759422\n",
       "4     West    16988230  162548    0.956827"
      ]
     },
     "execution_count": 31,
     "metadata": {},
     "output_type": "execute_result"
    }
   ],
   "source": [
    "# In order to get the correct population in different district without aggregating duplicate rows, \n",
    "# I created a temp2 dataset to calculate the population based on locations and drop duplicate rows.\n",
    "temp2 = df[['population','Location']]\n",
    "\n",
    "# Drop duplicates except for the first occurrence.\n",
    "temp2 = temp2.drop_duplicates(keep='first')\n",
    "temp2 = temp2.groupby(['Location']).agg({'population': np.sum}).reset_index()\n",
    "death_rate_location = pd.merge(temp2, temp1, on = ['Location'], how='inner')\n",
    "death_rate_location['Death_rate'] = death_rate_location['deaths']/death_rate_location['population'] * 100\n",
    "death_rate_location"
   ]
  },
  {
   "cell_type": "code",
   "execution_count": 32,
   "metadata": {},
   "outputs": [
    {
     "name": "stdout",
     "output_type": "stream",
     "text": [
      "The average death rate during the 6 years is 0.7921407159490276 %\n"
     ]
    }
   ],
   "source": [
    "num = death_rate_location['deaths'].sum() / death_rate_location['population'].sum()\n",
    "print('The average death rate during the 6 years is {0} %'.format(num*100))"
   ]
  },
  {
   "cell_type": "code",
   "execution_count": 33,
   "metadata": {},
   "outputs": [
    {
     "name": "stderr",
     "output_type": "stream",
     "text": [
      "/Users/glen/anaconda/lib/python3.6/site-packages/seaborn/categorical.py:1428: FutureWarning: remove_na is deprecated and is a private function. Do not use.\n",
      "  stat_data = remove_na(group_data)\n"
     ]
    },
    {
     "data": {
      "image/png": "[encoded data removed]",
      "text/plain": [
       "<matplotlib.figure.Figure at 0x107fb5048>"
      ]
     },
     "metadata": {},
     "output_type": "display_data"
    }
   ],
   "source": [
    "import seaborn as sns\n",
    "fig, ax = plt.subplots(nrows=1, ncols=2, figsize=(18, 6))\n",
    "sns.barplot(x='Location', y='population', data=death_rate_location, ax=ax[0])\n",
    "ax[0].set_xlabel('Location', fontsize=12)\n",
    "ax[0].set_ylabel('Population', fontsize=12)\n",
    "ax[0].set_title('Population vs. Location (2003-2008)', fontsize=16)\n",
    "\n",
    "\n",
    "sns.barplot(x='Location', y='deaths', data=death_rate_location, ax=ax[1])\n",
    "ax[1].set_xlabel('Location', fontsize=12)\n",
    "ax[1].set_ylabel('Death Number', fontsize=12)\n",
    "ax[1].set_title('Death Number vs. Location (2003-2008)', fontsize=16)\n",
    "plt.tight_layout()\n",
    "plt.show()"
   ]
  },
  {
   "cell_type": "code",
   "execution_count": 34,
   "metadata": {},
   "outputs": [
    {
     "data": {
      "text/html": [
       "<div>\n",
       "<style scoped>\n",
       "    .dataframe tbody tr th:only-of-type {\n",
       "        vertical-align: middle;\n",
       "    }\n",
       "\n",
       "    .dataframe tbody tr th {\n",
       "        vertical-align: top;\n",
       "    }\n",
       "\n",
       "    .dataframe thead th {\n",
       "        text-align: right;\n",
       "    }\n",
       "</style>\n",
       "<table border=\"1\" class=\"dataframe\">\n",
       "  <thead>\n",
       "    <tr style=\"text-align: right;\">\n",
       "      <th></th>\n",
       "      <th>population</th>\n",
       "      <th>year</th>\n",
       "      <th>county_name</th>\n",
       "      <th>Location</th>\n",
       "      <th>deaths</th>\n",
       "    </tr>\n",
       "  </thead>\n",
       "  <tbody>\n",
       "    <tr>\n",
       "      <th>0</th>\n",
       "      <td>301085</td>\n",
       "      <td>2003</td>\n",
       "      <td>Albany</td>\n",
       "      <td>East</td>\n",
       "      <td>2846</td>\n",
       "    </tr>\n",
       "    <tr>\n",
       "      <th>1</th>\n",
       "      <td>50165</td>\n",
       "      <td>2003</td>\n",
       "      <td>Allegany</td>\n",
       "      <td>West</td>\n",
       "      <td>484</td>\n",
       "    </tr>\n",
       "    <tr>\n",
       "      <th>2</th>\n",
       "      <td>1362373</td>\n",
       "      <td>2003</td>\n",
       "      <td>Bronx</td>\n",
       "      <td>NyCity</td>\n",
       "      <td>10083</td>\n",
       "    </tr>\n",
       "    <tr>\n",
       "      <th>3</th>\n",
       "      <td>201037</td>\n",
       "      <td>2003</td>\n",
       "      <td>Broome</td>\n",
       "      <td>Mid</td>\n",
       "      <td>2061</td>\n",
       "    </tr>\n",
       "    <tr>\n",
       "      <th>4</th>\n",
       "      <td>83335</td>\n",
       "      <td>2003</td>\n",
       "      <td>Cattaraugus</td>\n",
       "      <td>West</td>\n",
       "      <td>839</td>\n",
       "    </tr>\n",
       "  </tbody>\n",
       "</table>\n",
       "</div>"
      ],
      "text/plain": [
       "   population  year  county_name Location  deaths\n",
       "0      301085  2003       Albany     East    2846\n",
       "1       50165  2003     Allegany     West     484\n",
       "2     1362373  2003        Bronx   NyCity   10083\n",
       "3      201037  2003       Broome      Mid    2061\n",
       "4       83335  2003  Cattaraugus     West     839"
      ]
     },
     "execution_count": 34,
     "metadata": {},
     "output_type": "execute_result"
    }
   ],
   "source": [
    "# Create a new dataset death_rate_county \n",
    "death_df = df.groupby(['county_name','year']).agg({'deaths': np.sum}).reset_index()\n",
    "population_df = df[['population','year','county_name','Location']]\n",
    "population_df = population_df.drop_duplicates(keep='last')\n",
    "death_rate_county = pd.merge(population_df, death_df, on = ['county_name','year'], how='inner')\n",
    "death_rate_county.head()"
   ]
  },
  {
   "cell_type": "code",
   "execution_count": 35,
   "metadata": {},
   "outputs": [
    {
     "name": "stderr",
     "output_type": "stream",
     "text": [
      "/Users/glen/anaconda/lib/python3.6/site-packages/seaborn/categorical.py:1428: FutureWarning: remove_na is deprecated and is a private function. Do not use.\n",
      "  stat_data = remove_na(group_data)\n"
     ]
    },
    {
     "data": {
      "image/png": "[encoded data removed]",
      "text/plain": [
       "<matplotlib.figure.Figure at 0x107b9c908>"
      ]
     },
     "metadata": {},
     "output_type": "display_data"
    }
   ],
   "source": [
    "import seaborn as sns\n",
    "sns.set(style=\"darkgrid\")\n",
    "sns.set(rc={'figure.figsize':(11.7,5)})\n",
    "ax = sns.barplot(x = 'deaths',y=\"Location\", data=death_rate_county).set_title(\"Total Death v.s. Location\")\n",
    "plt.show()"
   ]
  },
  {
   "cell_type": "code",
   "execution_count": 36,
   "metadata": {},
   "outputs": [
    {
     "data": {
      "text/html": [
       "<div>\n",
       "<style scoped>\n",
       "    .dataframe tbody tr th:only-of-type {\n",
       "        vertical-align: middle;\n",
       "    }\n",
       "\n",
       "    .dataframe tbody tr th {\n",
       "        vertical-align: top;\n",
       "    }\n",
       "\n",
       "    .dataframe thead th {\n",
       "        text-align: right;\n",
       "    }\n",
       "</style>\n",
       "<table border=\"1\" class=\"dataframe\">\n",
       "  <thead>\n",
       "    <tr style=\"text-align: right;\">\n",
       "      <th></th>\n",
       "      <th>county_name</th>\n",
       "      <th>year</th>\n",
       "      <th>deaths</th>\n",
       "      <th>population</th>\n",
       "      <th>Death_rate(Percent)</th>\n",
       "    </tr>\n",
       "  </thead>\n",
       "  <tbody>\n",
       "    <tr>\n",
       "      <th>169</th>\n",
       "      <td>Montgomery</td>\n",
       "      <td>2004</td>\n",
       "      <td>628</td>\n",
       "      <td>49460</td>\n",
       "      <td>1.269713</td>\n",
       "    </tr>\n",
       "    <tr>\n",
       "      <th>121</th>\n",
       "      <td>Hamilton</td>\n",
       "      <td>2004</td>\n",
       "      <td>61</td>\n",
       "      <td>5158</td>\n",
       "      <td>1.182629</td>\n",
       "    </tr>\n",
       "    <tr>\n",
       "      <th>127</th>\n",
       "      <td>Herkimer</td>\n",
       "      <td>2004</td>\n",
       "      <td>717</td>\n",
       "      <td>64332</td>\n",
       "      <td>1.114531</td>\n",
       "    </tr>\n",
       "    <tr>\n",
       "      <th>61</th>\n",
       "      <td>Columbia</td>\n",
       "      <td>2004</td>\n",
       "      <td>706</td>\n",
       "      <td>63646</td>\n",
       "      <td>1.109261</td>\n",
       "    </tr>\n",
       "    <tr>\n",
       "      <th>91</th>\n",
       "      <td>Essex</td>\n",
       "      <td>2004</td>\n",
       "      <td>431</td>\n",
       "      <td>39295</td>\n",
       "      <td>1.096832</td>\n",
       "    </tr>\n",
       "  </tbody>\n",
       "</table>\n",
       "</div>"
      ],
      "text/plain": [
       "    county_name  year  deaths  population  Death_rate(Percent)\n",
       "169  Montgomery  2004     628       49460             1.269713\n",
       "121    Hamilton  2004      61        5158             1.182629\n",
       "127    Herkimer  2004     717       64332             1.114531\n",
       "61     Columbia  2004     706       63646             1.109261\n",
       "91        Essex  2004     431       39295             1.096832"
      ]
     },
     "execution_count": 36,
     "metadata": {},
     "output_type": "execute_result"
    }
   ],
   "source": [
    "# Aggregate the data at the year and the county level and create a new dataset group\n",
    "group = death_rate_county.groupby(['county_name','year']).agg({'deaths': np.sum, 'population':np.sum}).reset_index()\n",
    "group['Death_rate(Percent)'] = group['deaths']/group['population'] * 100\n",
    "\n",
    "group_2004 = group[group['year'] == '2004'].nlargest(5,'Death_rate(Percent)')\n",
    "group_2004"
   ]
  },
  {
   "cell_type": "code",
   "execution_count": 37,
   "metadata": {},
   "outputs": [
    {
     "name": "stderr",
     "output_type": "stream",
     "text": [
      "/Users/glen/anaconda/lib/python3.6/site-packages/seaborn/categorical.py:1428: FutureWarning: remove_na is deprecated and is a private function. Do not use.\n",
      "  stat_data = remove_na(group_data)\n"
     ]
    },
    {
     "data": {
      "image/png": "[encoded data removed]",
      "text/plain": [
       "<matplotlib.figure.Figure at 0x107b9c160>"
      ]
     },
     "metadata": {},
     "output_type": "display_data"
    }
   ],
   "source": [
    "# Write a function print_highest_counties to help me print the result in different year \n",
    "year = ['2003','2004','2005','2006','2007','2008']\n",
    "group = death_rate_county.groupby(['county_name','year']).agg({'deaths': np.sum, 'population':np.sum}).reset_index()\n",
    "group['Death_rate(Percent)'] = group['deaths']/group['population'] * 100\n",
    "\n",
    "\n",
    "def print_highest_counties(year, row, col, group, c):\n",
    "    fig, ax = plt.subplots(nrows=row, ncols=col, figsize=(18, 6))\n",
    "    for i in range(row):\n",
    "        for j in range(col):\n",
    "            group1 = group[group['year'] == year[c]].nlargest(3,'Death_rate(Percent)')\n",
    "            sns.barplot(x='county_name', y='Death_rate(Percent)', data=group1, ax=ax[i][j])\n",
    "            ax[i][j].set_xlabel('County name', fontsize=12)\n",
    "            ax[i][j].set_ylabel('Death_rate(Percent)', fontsize=12)\n",
    "            ax[i][j].set_title('Top 3 highest death rate counties {0}'.format(year[c]), fontsize=16)\n",
    "            c+=1\n",
    "\n",
    "print_highest_counties(year, 2, 3, group, 0)\n",
    "plt.tight_layout()\n",
    "plt.show()"
   ]
  },
  {
   "cell_type": "code",
   "execution_count": 38,
   "metadata": {},
   "outputs": [
    {
     "data": {
      "text/plain": [
       "<matplotlib.legend.Legend at 0x1a1680e8d0>"
      ]
     },
     "execution_count": 38,
     "metadata": {},
     "output_type": "execute_result"
    },
    {
     "data": {
      "image/png": "[encoded data removed]",
      "text/plain": [
       "<matplotlib.figure.Figure at 0x1a16523860>"
      ]
     },
     "metadata": {},
     "output_type": "display_data"
    }
   ],
   "source": [
    "# # Aggregate the data at the year and the location level and create a new dataset temp\n",
    "temp = death_rate_county.groupby(['Location','year']).agg({'deaths': np.sum, 'population':np.sum}).reset_index()\n",
    "temp['Death_rate(Percent)'] = group['deaths']/group['population'] * 100\n",
    "\n",
    "temp1 = temp[temp['Location'] == 'East']\n",
    "temp2 = temp[temp['Location'] == 'Mid']\n",
    "temp3 = temp[temp['Location'] == 'West']\n",
    "temp4 = temp[temp['Location'] == 'NyCity']\n",
    "temp5 = temp[temp['Location'] == 'South']\n",
    "\n",
    "plt.figure(figsize=(16, 6))\n",
    "\n",
    "plt.xlabel('year')\n",
    "plt.ylabel('Death rate')\n",
    "\n",
    "plt.plot(temp1['year'], temp1['Death_rate(Percent)'], 'o-')\n",
    "plt.plot(temp2['year'], temp2['Death_rate(Percent)'], 'o-')\n",
    "plt.plot(temp3['year'], temp3['Death_rate(Percent)'], 'o-')\n",
    "plt.plot(temp4['year'], temp4['Death_rate(Percent)'], 'o-')\n",
    "plt.plot(temp5['year'], temp5['Death_rate(Percent)'], 'o-')\n",
    "plt.title('Death rate per year')\n",
    "plt.legend(['East', 'Mid', 'West', 'NyCity','South'], loc='upper right')"
   ]
  },
  {
   "cell_type": "code",
   "execution_count": 39,
   "metadata": {},
   "outputs": [
    {
     "data": {
      "text/plain": [
       "<matplotlib.legend.Legend at 0x1a16a566d8>"
      ]
     },
     "execution_count": 39,
     "metadata": {},
     "output_type": "execute_result"
    },
    {
     "data": {
      "image/png": "[encoded data removed]",
      "text/plain": [
       "<matplotlib.figure.Figure at 0x107bc69b0>"
      ]
     },
     "metadata": {},
     "output_type": "display_data"
    }
   ],
   "source": [
    "# Plot population per year\n",
    "temp1 = temp[temp['Location'] == 'East']\n",
    "temp2 = temp[temp['Location'] == 'Mid']\n",
    "temp3 = temp[temp['Location'] == 'West']\n",
    "temp4 = temp[temp['Location'] == 'NyCity']\n",
    "temp5 = temp[temp['Location'] == 'South']\n",
    "\n",
    "plt.figure(figsize=(16, 6))\n",
    "\n",
    "plt.xlabel('year')\n",
    "plt.ylabel('Death rate')\n",
    "\n",
    "plt.plot(temp1['year'], temp1['population'], 'o-')\n",
    "plt.plot(temp2['year'], temp2['population'], 'o-')\n",
    "plt.plot(temp3['year'], temp3['population'], 'o-')\n",
    "plt.plot(temp4['year'], temp4['population'], 'o-')\n",
    "plt.plot(temp5['year'], temp5['population'], 'o-')\n",
    "plt.title('Population per year')\n",
    "plt.legend(['East', 'Mid', 'West', 'NyCity','South'], loc='upper right')"
   ]
  }
 ],
 "metadata": {
  "kernelspec": {
   "display_name": "Python 3",
   "language": "python",
   "name": "python3"
  },
  "language_info": {
   "codemirror_mode": {
    "name": "ipython",
    "version": 3
   },
   "file_extension": ".py",
   "mimetype": "text/x-python",
   "name": "python",
   "nbconvert_exporter": "python",
   "pygments_lexer": "ipython3",
   "version": "3.6.8"
  }
 },
 "nbformat": 4,
 "nbformat_minor": 2
}
